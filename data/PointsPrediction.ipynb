{
 "cells": [
  {
   "cell_type": "markdown",
   "id": "20ae188e-fbfc-4f4a-9052-7166cf92522c",
   "metadata": {},
   "source": [
    "# Data preparation\n",
    "\n",
    "1. First we read the data from the SQL Server\n",
    "2. Secondly, we will normalize the data to numeric values\n",
    "3. We run some statistics against it"
   ]
  },
  {
   "cell_type": "code",
   "execution_count": 1,
   "id": "693b6870-fed2-4e25-8a46-abc6dae5b387",
   "metadata": {},
   "outputs": [],
   "source": [
    "import pyodbc\n",
    "import pandas as pd"
   ]
  },
  {
   "cell_type": "code",
   "execution_count": 17,
   "id": "0a62ef64-1c35-4d13-8375-457fc194ea57",
   "metadata": {},
   "outputs": [
    {
     "name": "stderr",
     "output_type": "stream",
     "text": [
      "/var/folders/3z/qnnx2tsn4bg2qdpv9jbbfbgh0000gn/T/ipykernel_93420/3459309747.py:18: UserWarning: pandas only supports SQLAlchemy connectable (engine/connection) or database string URI or sqlite3 DBAPI2 connection. Other DBAPI2 objects are not tested. Please consider using SQLAlchemy.\n",
      "  original_dataset = pd.read_sql(query, conn)\n"
     ]
    }
   ],
   "source": [
    "\n",
    "# Define the connection string\n",
    "connection_string = (\n",
    "    \"DRIVER={ODBC Driver 17 for SQL Server};\"\n",
    "    \"SERVER=127.0.0.1;\"\n",
    "    \"DATABASE=CyclingStats;\"\n",
    "    \"UID=sa;\"\n",
    "    \"PWD=Test123.;\"\n",
    ")\n",
    "\n",
    "# Create a connection\n",
    "conn = pyodbc.connect(connection_string)\n",
    "\n",
    "\n",
    "# Define your SQL query\n",
    "query = \"EXEC pr_getracepoints\"\n",
    "\n",
    "# Read the data into a pandas DataFrame\n",
    "original_dataset = pd.read_sql(query, conn)\n",
    "\n",
    "# Close the connection\n",
    "conn.close()\n",
    "\n",
    "# Display the DataFrame\n",
    "original_dataset.head()\n",
    "\n",
    "df.to_csv(\"./datasets/cyclingpoints.csv\", index=False)"
   ]
  },
  {
   "cell_type": "code",
   "execution_count": 12,
   "id": "2e60384b-97b1-4055-8441-d7436ac6aced",
   "metadata": {},
   "outputs": [
    {
     "name": "stdout",
     "output_type": "stream",
     "text": [
      "<class 'pandas.core.frame.DataFrame'>\n",
      "RangeIndex: 1286 entries, 0 to 1285\n",
      "Data columns (total 38 columns):\n",
      " #   Column            Non-Null Count  Dtype         \n",
      "---  ------            --------------  -----         \n",
      " 0   RaceId            1286 non-null   object        \n",
      " 1   RiderId           1286 non-null   object        \n",
      " 2   Points            1286 non-null   int64         \n",
      " 3   Position          1286 non-null   int64         \n",
      " 4   Pc                1286 non-null   int64         \n",
      " 5   Mc                1286 non-null   int64         \n",
      " 6   Picked            1286 non-null   int64         \n",
      " 7   Stars             1286 non-null   int64         \n",
      " 8   Id                1286 non-null   object        \n",
      " 9   PcsId             1286 non-null   object        \n",
      " 10  StageId           0 non-null      object        \n",
      " 11  StageRaceId       0 non-null      object        \n",
      " 12  StageRace         1286 non-null   bool          \n",
      " 13  Name              1286 non-null   object        \n",
      " 14  RaceDate          1286 non-null   datetime64[ns]\n",
      " 15  RaceType          1286 non-null   object        \n",
      " 16  Distance          1286 non-null   float64       \n",
      " 17  Status            1286 non-null   object        \n",
      " 18  ProfileImageUrl   1286 non-null   object        \n",
      " 19  PointsScale       1286 non-null   object        \n",
      " 20  UciScale          1286 non-null   object        \n",
      " 21  ParcoursType      1286 non-null   int64         \n",
      " 22  ProfileScore      1286 non-null   int64         \n",
      " 23  RaceRanking       1286 non-null   int64         \n",
      " 24  Elevation         1286 non-null   int64         \n",
      " 25  StartlistQuality  1286 non-null   int64         \n",
      " 26  DecidingMethod    1286 non-null   object        \n",
      " 27  Classification    1286 non-null   object        \n",
      " 28  Category          1286 non-null   object        \n",
      " 29  PcsUrl            1286 non-null   object        \n",
      " 30  WcsUrl            1286 non-null   object        \n",
      " 31  PointsRetrieved   1286 non-null   bool          \n",
      " 32  GameOrganized     0 non-null      object        \n",
      " 33  Updated           1286 non-null   datetime64[ns]\n",
      " 34  RiderId           1286 non-null   object        \n",
      " 35  RaceId            1286 non-null   object        \n",
      " 36  Position          1286 non-null   int64         \n",
      " 37  Gap               1286 non-null   int64         \n",
      "dtypes: bool(2), datetime64[ns](2), float64(1), int64(13), object(20)\n",
      "memory usage: 364.3+ KB\n"
     ]
    }
   ],
   "source": [
    "dataset = original_dataset.copy()\n",
    "dataset.drop(\n",
    "    ['DefinitionId', 'DefinitionName', 'DefinitionQueueStatus', 'DefinitionType'], \n",
    "    axis=1, inplace=True) "
   ]
  },
  {
   "cell_type": "code",
   "execution_count": 12,
   "id": "ea6d6f68-d634-4d57-adf0-2b23033e1cd2",
   "metadata": {},
   "outputs": [
    {
     "name": "stdout",
     "output_type": "stream",
     "text": [
      "<class 'pandas.core.frame.DataFrame'>\n",
      "RangeIndex: 1286 entries, 0 to 1285\n",
      "Data columns (total 38 columns):\n",
      " #   Column            Non-Null Count  Dtype         \n",
      "---  ------            --------------  -----         \n",
      " 0   RaceId            1286 non-null   object        \n",
      " 1   RiderId           1286 non-null   object        \n",
      " 2   Points            1286 non-null   int64         \n",
      " 3   Position          1286 non-null   int64         \n",
      " 4   Pc                1286 non-null   int64         \n",
      " 5   Mc                1286 non-null   int64         \n",
      " 6   Picked            1286 non-null   int64         \n",
      " 7   Stars             1286 non-null   int64         \n",
      " 8   Id                1286 non-null   object        \n",
      " 9   PcsId             1286 non-null   object        \n",
      " 10  StageId           0 non-null      object        \n",
      " 11  StageRaceId       0 non-null      object        \n",
      " 12  StageRace         1286 non-null   bool          \n",
      " 13  Name              1286 non-null   object        \n",
      " 14  RaceDate          1286 non-null   datetime64[ns]\n",
      " 15  RaceType          1286 non-null   object        \n",
      " 16  Distance          1286 non-null   float64       \n",
      " 17  Status            1286 non-null   object        \n",
      " 18  ProfileImageUrl   1286 non-null   object        \n",
      " 19  PointsScale       1286 non-null   object        \n",
      " 20  UciScale          1286 non-null   object        \n",
      " 21  ParcoursType      1286 non-null   int64         \n",
      " 22  ProfileScore      1286 non-null   int64         \n",
      " 23  RaceRanking       1286 non-null   int64         \n",
      " 24  Elevation         1286 non-null   int64         \n",
      " 25  StartlistQuality  1286 non-null   int64         \n",
      " 26  DecidingMethod    1286 non-null   object        \n",
      " 27  Classification    1286 non-null   object        \n",
      " 28  Category          1286 non-null   object        \n",
      " 29  PcsUrl            1286 non-null   object        \n",
      " 30  WcsUrl            1286 non-null   object        \n",
      " 31  PointsRetrieved   1286 non-null   bool          \n",
      " 32  GameOrganized     0 non-null      object        \n",
      " 33  Updated           1286 non-null   datetime64[ns]\n",
      " 34  RiderId           1286 non-null   object        \n",
      " 35  RaceId            1286 non-null   object        \n",
      " 36  Position          1286 non-null   int64         \n",
      " 37  Gap               1286 non-null   int64         \n",
      "dtypes: bool(2), datetime64[ns](2), float64(1), int64(13), object(20)\n",
      "memory usage: 364.3+ KB\n"
     ]
    }
   ],
   "source": [
    "original_dataset.info()"
   ]
  },
  {
   "cell_type": "code",
   "execution_count": 13,
   "id": "53921045-2f8b-445f-b610-c2c34a3bcd52",
   "metadata": {},
   "outputs": [],
   "source": [
    "original_dataset['RaceDate'] = pd.to_datetime(original_dataset['RaceDate']) \n",
    "original_dataset['Updated'] = pd.to_datetime(original_dataset['Updated']) "
   ]
  },
  {
   "cell_type": "code",
   "execution_count": null,
   "id": "56efcf03-8cf7-4088-a3ef-5cc1ff6e88aa",
   "metadata": {},
   "outputs": [],
   "source": [
    "dataset = original_dataset.copy()\n",
    "print(Counter(dataset.RiderId))\n",
    "print(Counter(dataset.Id))\n",
    "print(Counter(dataset.DefinitionQueueStatus))\n",
    "print(Counter(dataset.DefinitionType))"
   ]
  }
 ],
 "metadata": {
  "kernelspec": {
   "display_name": "Python 3 (ipykernel)",
   "language": "python",
   "name": "python3"
  },
  "language_info": {
   "codemirror_mode": {
    "name": "ipython",
    "version": 3
   },
   "file_extension": ".py",
   "mimetype": "text/x-python",
   "name": "python",
   "nbconvert_exporter": "python",
   "pygments_lexer": "ipython3",
   "version": "3.12.8"
  }
 },
 "nbformat": 4,
 "nbformat_minor": 5
}
